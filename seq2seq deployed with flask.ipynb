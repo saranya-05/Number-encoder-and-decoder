{
 "cells": [
  {
   "cell_type": "code",
   "execution_count": 34,
   "metadata": {},
   "outputs": [],
   "source": [
    "# imports\n",
    "\n",
    "import keras\n",
    "from keras.datasets import mnist\n",
    "from keras.models import Sequential\n",
    "from keras.layers import Dense, Dropout, Flatten\n",
    "from keras.layers import Conv2D, MaxPooling2D\n",
    "from keras import backend as K"
   ]
  },
  {
   "cell_type": "code",
   "execution_count": 7,
   "metadata": {},
   "outputs": [],
   "source": [
    "# Hyperparameters\n",
    "\n",
    "num_classes = 10\n",
    "batch_size = 128\n",
    "epochs = 12"
   ]
  },
  {
   "cell_type": "code",
   "execution_count": 8,
   "metadata": {},
   "outputs": [
    {
     "name": "stdout",
     "output_type": "stream",
     "text": [
      "Downloading data from https://storage.googleapis.com/tensorflow/tf-keras-datasets/mnist.npz\n",
      "11493376/11490434 [==============================] - 1s 0us/step\n"
     ]
    }
   ],
   "source": [
    "img_rows, img_cols = 28, 28\n",
    "\n",
    "# Loading the data.\n",
    "\n",
    "(x_train, y_train), (x_test, y_test) = mnist.load_data()"
   ]
  },
  {
   "cell_type": "code",
   "execution_count": 9,
   "metadata": {},
   "outputs": [
    {
     "name": "stdout",
     "output_type": "stream",
     "text": [
      "x_train shape: (60000, 28, 28, 1)\n",
      "60000 train samples\n",
      "10000 test samples\n"
     ]
    }
   ],
   "source": [
    "# Preparing the data\n",
    "\n",
    "if K.image_data_format() == 'channels_first':\n",
    "    x_train = x_train.reshape(x_train.shape[0], 1, img_rows, img_cols)\n",
    "    x_test = x_test.reshape(x_test.shape[0], 1, img_rows, img_cols)\n",
    "    input_shape = (1, img_rows, img_cols)\n",
    "else:\n",
    "    x_train = x_train.reshape(x_train.shape[0], img_rows, img_cols, 1)\n",
    "    x_test = x_test.reshape(x_test.shape[0], img_rows, img_cols, 1)\n",
    "    input_shape = (img_rows, img_cols, 1)\n",
    "\n",
    "\n",
    "x_train = x_train.astype('float32')\n",
    "x_test = x_test.astype('float32')\n",
    "x_train /= 255\n",
    "x_test /= 255\n",
    "print('x_train shape:', x_train.shape)\n",
    "print(x_train.shape[0], 'train samples')\n",
    "print(x_test.shape[0], 'test samples')\n",
    "\n",
    "y_train = keras.utils.to_categorical(y_train, num_classes)\n",
    "y_test = keras.utils.to_categorical(y_test, num_classes)\n"
   ]
  },
  {
   "cell_type": "code",
   "execution_count": 10,
   "metadata": {},
   "outputs": [],
   "source": [
    "# Creating the Model \n",
    "\n",
    "model = Sequential()\n",
    "model.add(Conv2D(32, kernel_size=(3, 3),activation='relu',input_shape=input_shape))\n",
    "model.add(Conv2D(64, (3, 3), activation='relu'))\n",
    "model.add(MaxPooling2D(pool_size=(2, 2)))\n",
    "model.add(Dropout(0.25))\n",
    "model.add(Flatten())\n",
    "model.add(Dense(128, activation='relu'))\n",
    "model.add(Dropout(0.5))\n",
    "model.add(Dense(num_classes, activation='softmax'))\n",
    "model.compile(loss=keras.losses.categorical_crossentropy,optimizer=keras.optimizers.Adadelta(),metrics=['accuracy'])"
   ]
  },
  {
   "cell_type": "code",
   "execution_count": 11,
   "metadata": {},
   "outputs": [
    {
     "name": "stdout",
     "output_type": "stream",
     "text": [
      "Epoch 1/12\n",
      "469/469 [==============================] - 43s 91ms/step - loss: 2.3075 - accuracy: 0.0938 - val_loss: 2.2659 - val_accuracy: 0.2601\n",
      "Epoch 2/12\n",
      "469/469 [==============================] - 43s 92ms/step - loss: 2.2607 - accuracy: 0.1954 - val_loss: 2.2091 - val_accuracy: 0.5262\n",
      "Epoch 3/12\n",
      "469/469 [==============================] - 45s 95ms/step - loss: 2.2056 - accuracy: 0.3215 - val_loss: 2.1338 - val_accuracy: 0.5828\n",
      "Epoch 4/12\n",
      "469/469 [==============================] - 45s 96ms/step - loss: 2.1302 - accuracy: 0.4092 - val_loss: 2.0265 - val_accuracy: 0.6069\n",
      "Epoch 5/12\n",
      "469/469 [==============================] - 46s 97ms/step - loss: 2.0259 - accuracy: 0.4702 - val_loss: 1.8785 - val_accuracy: 0.6490\n",
      "Epoch 6/12\n",
      "469/469 [==============================] - 46s 97ms/step - loss: 1.8838 - accuracy: 0.5181 - val_loss: 1.6902 - val_accuracy: 0.6936\n",
      "Epoch 7/12\n",
      "469/469 [==============================] - 46s 99ms/step - loss: 1.7102 - accuracy: 0.5621 - val_loss: 1.4753 - val_accuracy: 0.7365\n",
      "Epoch 8/12\n",
      "469/469 [==============================] - 46s 98ms/step - loss: 1.5255 - accuracy: 0.5992 - val_loss: 1.2638 - val_accuracy: 0.7658\n",
      "Epoch 9/12\n",
      "469/469 [==============================] - 46s 98ms/step - loss: 1.3598 - accuracy: 0.6285 - val_loss: 1.0829 - val_accuracy: 0.7864\n",
      "Epoch 10/12\n",
      "469/469 [==============================] - 44s 94ms/step - loss: 1.2158 - accuracy: 0.6523 - val_loss: 0.9413 - val_accuracy: 0.8031\n",
      "Epoch 11/12\n",
      "469/469 [==============================] - 42s 90ms/step - loss: 1.1044 - accuracy: 0.6779 - val_loss: 0.8339 - val_accuracy: 0.8179\n",
      "Epoch 12/12\n",
      "469/469 [==============================] - 44s 93ms/step - loss: 1.0217 - accuracy: 0.6975 - val_loss: 0.7531 - val_accuracy: 0.8283\n"
     ]
    },
    {
     "data": {
      "text/plain": [
       "<tensorflow.python.keras.callbacks.History at 0x7fe872bdb5d0>"
      ]
     },
     "execution_count": 11,
     "metadata": {},
     "output_type": "execute_result"
    }
   ],
   "source": [
    "model.fit(x_train, y_train,\n",
    "          batch_size=batch_size,\n",
    "          epochs=epochs,\n",
    "          verbose=1,\n",
    "          validation_data=(x_test, y_test))\n"
   ]
  },
  {
   "cell_type": "code",
   "execution_count": 12,
   "metadata": {},
   "outputs": [
    {
     "name": "stdout",
     "output_type": "stream",
     "text": [
      "Test loss: 0.7530987858772278\n",
      "Test accuracy: 0.8282999992370605\n"
     ]
    }
   ],
   "source": [
    "# Evaluating the Predictions on the Model\n",
    "\n",
    "score = model.evaluate(x_test, y_test, verbose=0)\n",
    "print('Test loss:', score[0])\n",
    "print('Test accuracy:', score[1])"
   ]
  },
  {
   "cell_type": "code",
   "execution_count": 13,
   "metadata": {},
   "outputs": [],
   "source": [
    "model_json = model.to_json()\n",
    "with open(\"model.json\", \"w\") as json_file:\n",
    "    json_file.write(model_json)\n",
    "# serialize weights to HDF5\n",
    "model.save_weights(\"model.h5\")"
   ]
  },
  {
   "cell_type": "code",
   "execution_count": 15,
   "metadata": {},
   "outputs": [
    {
     "name": "stdout",
     "output_type": "stream",
     "text": [
      "Loaded Model from disk\n"
     ]
    }
   ],
   "source": [
    "from keras.models import model_from_json \n",
    "\n",
    "# opening and store file in a variable\n",
    "\n",
    "json_file = open('model.json','r')\n",
    "loaded_model_json = json_file.read()\n",
    "json_file.close()\n",
    "\n",
    "# use Keras model_from_json to make a loaded model\n",
    "\n",
    "loaded_model = model_from_json(loaded_model_json)\n",
    "\n",
    "# load weights into new model\n",
    "\n",
    "loaded_model.load_weights(\"model.h5\")\n",
    "print(\"Loaded Model from disk\")\n",
    "\n",
    "# compile and evaluate loaded model\n",
    "\n",
    "loaded_model.compile(loss='categorical_crossentropy',optimizer='adam',metrics=['accuracy'])\n"
   ]
  },
  {
   "cell_type": "code",
   "execution_count": 32,
   "metadata": {},
   "outputs": [
    {
     "ename": "FileNotFoundError",
     "evalue": "[Errno 2] No such file or directory: 'model.json'",
     "output_type": "error",
     "traceback": [
      "\u001b[0;31m---------------------------------------------------------------------------\u001b[0m",
      "\u001b[0;31mFileNotFoundError\u001b[0m                         Traceback (most recent call last)",
      "\u001b[0;32m<ipython-input-32-c5be8470072f>\u001b[0m in \u001b[0;36m<module>\u001b[0;34m\u001b[0m\n\u001b[1;32m     14\u001b[0m \u001b[0;32mglobal\u001b[0m \u001b[0mgraph\u001b[0m\u001b[0;34m,\u001b[0m \u001b[0mmodel\u001b[0m\u001b[0;34m\u001b[0m\u001b[0;34m\u001b[0m\u001b[0m\n\u001b[1;32m     15\u001b[0m \u001b[0;34m\u001b[0m\u001b[0m\n\u001b[0;32m---> 16\u001b[0;31m \u001b[0mmodel\u001b[0m\u001b[0;34m,\u001b[0m \u001b[0mgraph\u001b[0m \u001b[0;34m=\u001b[0m \u001b[0minit\u001b[0m\u001b[0;34m(\u001b[0m\u001b[0;34m)\u001b[0m\u001b[0;34m\u001b[0m\u001b[0;34m\u001b[0m\u001b[0m\n\u001b[0m\u001b[1;32m     17\u001b[0m \u001b[0;34m\u001b[0m\u001b[0m\n\u001b[1;32m     18\u001b[0m \u001b[0mapp\u001b[0m \u001b[0;34m=\u001b[0m \u001b[0mFlask\u001b[0m\u001b[0;34m(\u001b[0m\u001b[0m__name__\u001b[0m\u001b[0;34m)\u001b[0m\u001b[0;34m\u001b[0m\u001b[0;34m\u001b[0m\u001b[0m\n",
      "\u001b[0;32m<ipython-input-28-70621df6d59a>\u001b[0m in \u001b[0;36minit\u001b[0;34m()\u001b[0m\n\u001b[1;32m      7\u001b[0m \u001b[0;34m\u001b[0m\u001b[0m\n\u001b[1;32m      8\u001b[0m \u001b[0;32mdef\u001b[0m \u001b[0minit\u001b[0m\u001b[0;34m(\u001b[0m\u001b[0;34m)\u001b[0m\u001b[0;34m:\u001b[0m\u001b[0;34m\u001b[0m\u001b[0;34m\u001b[0m\u001b[0m\n\u001b[0;32m----> 9\u001b[0;31m         \u001b[0mjson_file\u001b[0m \u001b[0;34m=\u001b[0m \u001b[0mopen\u001b[0m\u001b[0;34m(\u001b[0m\u001b[0;34m'model.json'\u001b[0m\u001b[0;34m,\u001b[0m\u001b[0;34m'r'\u001b[0m\u001b[0;34m)\u001b[0m\u001b[0;34m\u001b[0m\u001b[0;34m\u001b[0m\u001b[0m\n\u001b[0m\u001b[1;32m     10\u001b[0m         \u001b[0mloaded_model_json\u001b[0m \u001b[0;34m=\u001b[0m \u001b[0mjson_file\u001b[0m\u001b[0;34m.\u001b[0m\u001b[0mread\u001b[0m\u001b[0;34m(\u001b[0m\u001b[0;34m)\u001b[0m\u001b[0;34m\u001b[0m\u001b[0;34m\u001b[0m\u001b[0m\n\u001b[1;32m     11\u001b[0m         \u001b[0mjson_file\u001b[0m\u001b[0;34m.\u001b[0m\u001b[0mclose\u001b[0m\u001b[0;34m(\u001b[0m\u001b[0;34m)\u001b[0m\u001b[0;34m\u001b[0m\u001b[0;34m\u001b[0m\u001b[0m\n",
      "\u001b[0;31mFileNotFoundError\u001b[0m: [Errno 2] No such file or directory: 'model.json'"
     ]
    }
   ],
   "source": [
    "from flask import Flask, render_template, request\n",
    "from scipy.misc.pilutil import imsave,imread, imresize\n",
    "from keras.preprocessing.image import save_img\n",
    "import numpy as np\n",
    "import keras.models\n",
    "import re\n",
    "import sys \n",
    "import os\n",
    "import base64\n",
    "sys.path.append(os.path.abspath(\"./model\"))\n",
    "from load import * \n",
    "\n",
    "\n",
    "global graph, model\n",
    "\n",
    "model, graph = init()\n",
    "\n",
    "app = Flask(__name__)\n",
    "\n",
    "\n",
    "@app.route('/')\n",
    "def index_view():\n",
    "    return render_template('index.html')\n",
    "\n",
    "def convertImage(imgData1):\n",
    "\timgstr = re.search(b'base64,(.*)',imgData1).group(1)\n",
    "\twith open('output.png','wb') as output:\n",
    "\t    output.write(base64.b64decode(imgstr))\n",
    "\n",
    "@app.route('/predict/',methods=['GET','POST'])\n",
    "def predict():\n",
    "\timgData = request.get_data()\n",
    "\tconvertImage(imgData)\n",
    "\tx = imread('output.png',mode='L')\n",
    "\tx = np.invert(x)\n",
    "\tx = imresize(x,(28,28))\n",
    "\tx = x.reshape(1,28,28,1)\n",
    "\n",
    "\twith graph.as_default():\n",
    "\t\tout = model.predict(x)\n",
    "\t\tprint(out)\n",
    "\t\tprint(np.argmax(out,axis=1))\n",
    "\n",
    "\t\tresponse = np.array_str(np.argmax(out,axis=1))\n",
    "\t\treturn response\t\n",
    "\n",
    "if __name__ == '__main__':\n",
    "    app.run(debug=True, port=8000)"
   ]
  },
  {
   "cell_type": "code",
   "execution_count": 28,
   "metadata": {},
   "outputs": [],
   "source": [
    "import numpy as np\n",
    "import keras.models\n",
    "from keras.models import model_from_json\n",
    "from scipy.misc.pilutil import imread, imresize,imshow\n",
    "import tensorflow as tf\n",
    "\n",
    "\n",
    "def init(): \n",
    "\tjson_file = open('model.json','r')\n",
    "\tloaded_model_json = json_file.read()\n",
    "\tjson_file.close()\n",
    "\tloaded_model = model_from_json(loaded_model_json)\n",
    "\t#load weights into new model\n",
    "\tloaded_model.load_weights(\"model.h5\")\n",
    "\tprint(\"Loaded Model from disk\")\n",
    "\n",
    "\t#compile and evaluate loaded model\n",
    "\tloaded_model.compile(loss='categorical_crossentropy',optimizer='adam',metrics=['accuracy'])\n",
    "\t#loss,accuracy = model.evaluate(X_test,y_test)\n",
    "\t#print('loss:', loss)\n",
    "\t#print('accuracy:', accuracy)\n",
    "\tgraph = tf.get_default_graph()\n",
    "\n",
    "\treturn loaded_model,graph"
   ]
  },
  {
   "cell_type": "code",
   "execution_count": null,
   "metadata": {},
   "outputs": [],
   "source": []
  }
 ],
 "metadata": {
  "kernelspec": {
   "display_name": "Python 3",
   "language": "python",
   "name": "python3"
  },
  "language_info": {
   "codemirror_mode": {
    "name": "ipython",
    "version": 3
   },
   "file_extension": ".py",
   "mimetype": "text/x-python",
   "name": "python",
   "nbconvert_exporter": "python",
   "pygments_lexer": "ipython3",
   "version": "3.7.6"
  }
 },
 "nbformat": 4,
 "nbformat_minor": 4
}
